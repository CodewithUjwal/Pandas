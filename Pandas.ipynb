{
 "cells": [
  {
   "cell_type": "code",
   "execution_count": null,
   "id": "579e23d5-78f6-441d-9174-156c75fb4d22",
   "metadata": {},
   "outputs": [],
   "source": [
    "#Q1\n",
    "'''\n",
    "1. pd.read_csv()\n",
    "'''\n",
    "import pandas as pd\n",
    "\n",
    "# Reading a CSV file into a DataFrame\n",
    "df = pd.read_csv('data.csv')\n",
    "\n",
    "# Displaying the first few rows of the DataFrame\n",
    "print(df.head())\n",
    "\n",
    "#2. df.head()\n",
    "import pandas as pd\n",
    "\n",
    "# Creating a DataFrame\n",
    "data = {'Name': ['Alice', 'Bob', 'Charlie', 'David', 'Emily'],\n",
    "        'Age': [25, 30, 35, 40, 45]}\n",
    "df = pd.DataFrame(data)\n",
    "\n",
    "# Displaying the first 3 rows of the DataFrame\n",
    "print(df.head(3))\n",
    "\n"
   ]
  },
  {
   "cell_type": "code",
   "execution_count": null,
   "id": "3cd7b286-33d5-4037-8f54-e7e87cd29c63",
   "metadata": {},
   "outputs": [],
   "source": [
    "#Q2 \n",
    "import pandas as pd\n",
    "\n",
    "def reindex_with_custom_increment(df):\n",
    "    # Resetting the index and dropping the old index\n",
    "    df = df.reset_index(drop=True)\n",
    "    \n",
    "    # Creating a new index starting from 1 and incrementing by 2\n",
    "    new_index = pd.Series(range(1, 2 * len(df), 2))\n",
    "    \n",
    "    # Assigning the new index to the DataFrame\n",
    "    df.index = new_index\n",
    "    \n",
    "    return df\n",
    "\n",
    "# Example usage:\n",
    "# Assuming df is your existing DataFrame with columns 'A', 'B', 'C'\n",
    "data = {'A': [10, 20, 30],\n",
    "        'B': [40, 50, 60],\n",
    "        'C': [70, 80, 90]}\n",
    "df = pd.DataFrame(data)\n",
    "\n",
    "# Reindexing the DataFrame\n",
    "df_reindexed = reindex_with_custom_increment(df)\n",
    "\n",
    "print(\"Original DataFrame:\")\n",
    "print(df)\n",
    "\n",
    "print(\"\\nDataFrame after custom reindexing:\")\n",
    "print(df_reindexed)\n"
   ]
  },
  {
   "cell_type": "code",
   "execution_count": null,
   "id": "f5d3b402-77f0-481e-b1a4-31ff21e2d79f",
   "metadata": {},
   "outputs": [],
   "source": [
    "#Q3\n",
    "import pandas as pd\n",
    "\n",
    "def calculate_sum_of_first_three(df):\n",
    "    # Ensure 'Values' column exists in the DataFrame\n",
    "    if 'Values' not in df.columns:\n",
    "        print(\"Error: 'Values' column not found in the DataFrame.\")\n",
    "        return\n",
    "    \n",
    "    # Initialize a variable to store the sum\n",
    "    sum_first_three = 0\n",
    "    \n",
    "    # Iterate over the first three rows of 'Values' column and calculate the sum\n",
    "    for index, value in df['Values'].head(3).items():\n",
    "        sum_first_three += value\n",
    "    \n",
    "    # Print the sum to the console\n",
    "    print(\"Sum of the first three values in 'Values' column:\", sum_first_three)\n",
    "\n",
    "# Example usage:\n",
    "# Assuming df is your DataFrame with a column named 'Values'\n",
    "data = {'Values': [10, 20, 30, 40, 50]}\n",
    "df = pd.DataFrame(data)\n",
    "\n",
    "# Call the function to calculate the sum of the first three values\n",
    "calculate_sum_of_first_three(df)\n",
    "\n"
   ]
  },
  {
   "cell_type": "code",
   "execution_count": null,
   "id": "7bfacac7-8fb7-4723-b3c9-c5f2516f0e6d",
   "metadata": {},
   "outputs": [],
   "source": [
    "#Q4 \n",
    "import pandas as pd\n",
    "\n",
    "def add_word_count_column(df):\n",
    "    # Ensure 'Text' column exists in the DataFrame\n",
    "    if 'Text' not in df.columns:\n",
    "        print(\"Error: 'Text' column not found in the DataFrame.\")\n",
    "        return\n",
    "    \n",
    "    # Counting words and creating a new column 'Word_Count'\n",
    "    df['Word_Count'] = df['Text'].apply(lambda x: len(str(x).split()))\n",
    "    \n",
    "    return df\n",
    "\n",
    "# Example usage:\n",
    "# Assuming df is your DataFrame with a column named 'Text'\n",
    "data = {'Text': [\"This is a sample text\", \"Count the words here\", \"Another example\"]}\n",
    "df = pd.DataFrame(data)\n",
    "\n",
    "# Call the function to add 'Word_Count' column\n",
    "df = add_word_count_column(df)\n",
    "\n",
    "# Displaying the updated DataFrame\n",
    "print(\"DataFrame with Word_Count column:\")\n",
    "print(df)\n"
   ]
  },
  {
   "cell_type": "code",
   "execution_count": null,
   "id": "8eb8e98e-1d70-483d-af2d-14045045e2f3",
   "metadata": {},
   "outputs": [],
   "source": [
    "#Q5\n",
    "'''\n",
    "DataFrame.size gives you the total count of elements in the DataFrame, while DataFrame.shape provides \n",
    "the dimensions of the DataFrame as a tuple of (number of rows, number of columns).\n",
    "'''"
   ]
  },
  {
   "cell_type": "code",
   "execution_count": null,
   "id": "cfe67ea8-8946-46f0-8886-7189654dc5aa",
   "metadata": {},
   "outputs": [],
   "source": [
    "#Q6\n",
    "import pandas as pd\n",
    "\n",
    "# Reading an Excel file into a DataFrame\n",
    "df = pd.read_excel('example.xlsx')\n",
    "\n",
    "# Displaying the first few rows of the DataFrame\n",
    "print(df.head())\n"
   ]
  },
  {
   "cell_type": "code",
   "execution_count": null,
   "id": "123f9a2c-56ea-434b-ad2c-aa3846a45063",
   "metadata": {},
   "outputs": [],
   "source": [
    "#Q7\n"
   ]
  },
  {
   "cell_type": "code",
   "execution_count": null,
   "id": "e8b3b972-0dce-4cc9-b0c1-c5c127a80e27",
   "metadata": {},
   "outputs": [],
   "source": []
  }
 ],
 "metadata": {
  "kernelspec": {
   "display_name": "Python 3 (ipykernel)",
   "language": "python",
   "name": "python3"
  },
  "language_info": {
   "codemirror_mode": {
    "name": "ipython",
    "version": 3
   },
   "file_extension": ".py",
   "mimetype": "text/x-python",
   "name": "python",
   "nbconvert_exporter": "python",
   "pygments_lexer": "ipython3",
   "version": "3.10.8"
  }
 },
 "nbformat": 4,
 "nbformat_minor": 5
}
